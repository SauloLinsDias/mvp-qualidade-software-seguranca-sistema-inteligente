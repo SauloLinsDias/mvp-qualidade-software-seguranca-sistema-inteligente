{
  "cells": [
    {
      "cell_type": "markdown",
      "id": "fb0b522c",
      "metadata": {
        "id": "fb0b522c"
      },
      "source": [
        "\n",
        "# Predição de Doenças Cardíacas com Machine Learning\n",
        "\n",
        "Este notebook tem como objetivo desenvolver um modelo de machine learning capaz de prever a predisposição de uma pessoa a doenças cardíacas. O modelo será posteriormente integrado a uma aplicação real, composta por um frontend em React e um backend em Python, que fará uso do modelo treinado para realizar predições com base nos dados fornecidos pelos usuários.\n",
        "\n",
        "Este projeto faz parte da disciplina de **Qualidade de Software, Segurança e Sistemas Inteligentes**, do curso de **Engenharia de Software**, e foi desenvolvido pelo aluno **Saulo Lins Dias**.\n",
        "\n",
        "## Sobre o Dataset\n",
        "\n",
        "Os dados utilizados neste projeto foram obtidos no [Kaggle](https://www.kaggle.com/datasets/fedesoriano/heart-failure-prediction/data), mais especificamente do conjunto de dados **Heart Failure Prediction**. O objetivo do dataset é auxiliar na identificação precoce do risco de falha cardíaca com base em características clínicas e comportamentais.\n",
        "\n",
        "O dataset contém 918 registros e 12 colunas, sendo que a variável-alvo é `HeartDisease`, indicando se o paciente possui (1) ou não (0) uma doença cardíaca. As colunas presentes no dataset são:\n",
        "\n",
        "* `Age`: Idade do paciente.\n",
        "* `Sex`: Sexo biológico do paciente (F = feminino, M = masculino).\n",
        "* `ChestPainType`: Tipo de dor no peito (valores categóricos como TA, ATA, NAP, ASY).\n",
        "* `RestingBP`: Pressão arterial em repouso (em mm Hg).\n",
        "* `Cholesterol`: Nível de colesterol sérico (em mg/dl).\n",
        "* `FastingBS`: Glicemia de jejum (1 = maior que 120 mg/dl, 0 = menor ou igual).\n",
        "* `RestingECG`: Resultados do eletrocardiograma em repouso (valores categóricos).\n",
        "* `MaxHR`: Frequência cardíaca máxima alcançada.\n",
        "* `ExerciseAngina`: Angina induzida por exercício (Y = sim, N = não).\n",
        "* `Oldpeak`: Depressão do segmento ST induzida por exercício em relação ao repouso.\n",
        "* `ST_Slope`: Inclinação do segmento ST no pico do exercício (valores categóricos).\n",
        "* `HeartDisease`: Variável alvo indicando presença (1) ou ausência (0) de doença cardíaca.\n",
        "\n"
      ]
    },
    {
      "cell_type": "markdown",
      "id": "04229184",
      "metadata": {
        "id": "04229184"
      },
      "source": [
        "## 1. Configuração do Ambiente"
      ]
    },
    {
      "cell_type": "code",
      "execution_count": 1,
      "id": "3d9fd4b5",
      "metadata": {
        "id": "3d9fd4b5"
      },
      "outputs": [],
      "source": [
        "\n",
        "import pandas as pd\n",
        "import numpy as np\n",
        "import matplotlib.pyplot as plt\n",
        "import seaborn as sns\n",
        "\n",
        "from sklearn.model_selection import train_test_split, StratifiedKFold, cross_val_score\n",
        "from sklearn.preprocessing import StandardScaler, MinMaxScaler\n",
        "from sklearn.metrics import accuracy_score\n",
        "\n",
        "from sklearn.linear_model import LogisticRegression\n",
        "from sklearn.tree import DecisionTreeClassifier\n",
        "from sklearn.ensemble import RandomForestClassifier, AdaBoostClassifier, VotingClassifier\n",
        "from sklearn.svm import SVC\n",
        "from sklearn.neighbors import KNeighborsClassifier\n",
        "from sklearn.naive_bayes import GaussianNB\n",
        "from sklearn.pipeline import Pipeline\n",
        "\n",
        "import joblib\n"
      ]
    },
    {
      "cell_type": "markdown",
      "id": "7c746518",
      "metadata": {
        "id": "7c746518"
      },
      "source": [
        "## 2. Carregamento dos Dados"
      ]
    },
    {
      "cell_type": "code",
      "execution_count": 2,
      "id": "60acb081",
      "metadata": {
        "colab": {
          "base_uri": "https://localhost:8080/",
          "height": 206
        },
        "id": "60acb081",
        "outputId": "14f62a25-ca9e-47ab-855b-34282d80faf5"
      },
      "outputs": [
        {
          "name": "stderr",
          "output_type": "stream",
          "text": [
            "C:\\Users\\saulo\\AppData\\Roaming\\Python\\Python313\\site-packages\\tqdm\\auto.py:21: TqdmWarning: IProgress not found. Please update jupyter and ipywidgets. See https://ipywidgets.readthedocs.io/en/stable/user_install.html\n",
            "  from .autonotebook import tqdm as notebook_tqdm\n"
          ]
        },
        {
          "data": {
            "text/html": [
              "<div>\n",
              "<style scoped>\n",
              "    .dataframe tbody tr th:only-of-type {\n",
              "        vertical-align: middle;\n",
              "    }\n",
              "\n",
              "    .dataframe tbody tr th {\n",
              "        vertical-align: top;\n",
              "    }\n",
              "\n",
              "    .dataframe thead th {\n",
              "        text-align: right;\n",
              "    }\n",
              "</style>\n",
              "<table border=\"1\" class=\"dataframe\">\n",
              "  <thead>\n",
              "    <tr style=\"text-align: right;\">\n",
              "      <th></th>\n",
              "      <th>Age</th>\n",
              "      <th>Sex</th>\n",
              "      <th>ChestPainType</th>\n",
              "      <th>RestingBP</th>\n",
              "      <th>Cholesterol</th>\n",
              "      <th>FastingBS</th>\n",
              "      <th>RestingECG</th>\n",
              "      <th>MaxHR</th>\n",
              "      <th>ExerciseAngina</th>\n",
              "      <th>Oldpeak</th>\n",
              "      <th>ST_Slope</th>\n",
              "      <th>HeartDisease</th>\n",
              "    </tr>\n",
              "  </thead>\n",
              "  <tbody>\n",
              "    <tr>\n",
              "      <th>0</th>\n",
              "      <td>40</td>\n",
              "      <td>M</td>\n",
              "      <td>ATA</td>\n",
              "      <td>140</td>\n",
              "      <td>289</td>\n",
              "      <td>0</td>\n",
              "      <td>Normal</td>\n",
              "      <td>172</td>\n",
              "      <td>N</td>\n",
              "      <td>0.0</td>\n",
              "      <td>Up</td>\n",
              "      <td>0</td>\n",
              "    </tr>\n",
              "    <tr>\n",
              "      <th>1</th>\n",
              "      <td>49</td>\n",
              "      <td>F</td>\n",
              "      <td>NAP</td>\n",
              "      <td>160</td>\n",
              "      <td>180</td>\n",
              "      <td>0</td>\n",
              "      <td>Normal</td>\n",
              "      <td>156</td>\n",
              "      <td>N</td>\n",
              "      <td>1.0</td>\n",
              "      <td>Flat</td>\n",
              "      <td>1</td>\n",
              "    </tr>\n",
              "    <tr>\n",
              "      <th>2</th>\n",
              "      <td>37</td>\n",
              "      <td>M</td>\n",
              "      <td>ATA</td>\n",
              "      <td>130</td>\n",
              "      <td>283</td>\n",
              "      <td>0</td>\n",
              "      <td>ST</td>\n",
              "      <td>98</td>\n",
              "      <td>N</td>\n",
              "      <td>0.0</td>\n",
              "      <td>Up</td>\n",
              "      <td>0</td>\n",
              "    </tr>\n",
              "    <tr>\n",
              "      <th>3</th>\n",
              "      <td>48</td>\n",
              "      <td>F</td>\n",
              "      <td>ASY</td>\n",
              "      <td>138</td>\n",
              "      <td>214</td>\n",
              "      <td>0</td>\n",
              "      <td>Normal</td>\n",
              "      <td>108</td>\n",
              "      <td>Y</td>\n",
              "      <td>1.5</td>\n",
              "      <td>Flat</td>\n",
              "      <td>1</td>\n",
              "    </tr>\n",
              "    <tr>\n",
              "      <th>4</th>\n",
              "      <td>54</td>\n",
              "      <td>M</td>\n",
              "      <td>NAP</td>\n",
              "      <td>150</td>\n",
              "      <td>195</td>\n",
              "      <td>0</td>\n",
              "      <td>Normal</td>\n",
              "      <td>122</td>\n",
              "      <td>N</td>\n",
              "      <td>0.0</td>\n",
              "      <td>Up</td>\n",
              "      <td>0</td>\n",
              "    </tr>\n",
              "  </tbody>\n",
              "</table>\n",
              "</div>"
            ],
            "text/plain": [
              "   Age Sex ChestPainType  RestingBP  Cholesterol  FastingBS RestingECG  MaxHR  \\\n",
              "0   40   M           ATA        140          289          0     Normal    172   \n",
              "1   49   F           NAP        160          180          0     Normal    156   \n",
              "2   37   M           ATA        130          283          0         ST     98   \n",
              "3   48   F           ASY        138          214          0     Normal    108   \n",
              "4   54   M           NAP        150          195          0     Normal    122   \n",
              "\n",
              "  ExerciseAngina  Oldpeak ST_Slope  HeartDisease  \n",
              "0              N      0.0       Up             0  \n",
              "1              N      1.0     Flat             1  \n",
              "2              N      0.0       Up             0  \n",
              "3              Y      1.5     Flat             1  \n",
              "4              N      0.0       Up             0  "
            ]
          },
          "execution_count": 2,
          "metadata": {},
          "output_type": "execute_result"
        }
      ],
      "source": [
        "import kagglehub\n",
        "\n",
        "from pathlib import Path\n",
        "\n",
        "# Faz o download da última versão do dataset\n",
        "path = kagglehub.dataset_download(\"fedesoriano/heart-failure-prediction\")\n",
        "path = Path(path)\n",
        "\n",
        "df = pd.read_csv(path/\"heart.csv\", delimiter=',')\n",
        "df.head()\n"
      ]
    },
    {
      "cell_type": "markdown",
      "id": "8c4168a1",
      "metadata": {
        "id": "8c4168a1"
      },
      "source": [
        "## 3. Tratamento dos Dados"
      ]
    },
    {
      "cell_type": "code",
      "execution_count": 3,
      "id": "142bd40f",
      "metadata": {
        "colab": {
          "base_uri": "https://localhost:8080/",
          "height": 794
        },
        "id": "142bd40f",
        "outputId": "6094f579-f6ce-49af-ff7c-e5553c87b8e8"
      },
      "outputs": [
        {
          "name": "stdout",
          "output_type": "stream",
          "text": [
            "Age               0\n",
            "Sex               0\n",
            "ChestPainType     0\n",
            "RestingBP         0\n",
            "Cholesterol       0\n",
            "FastingBS         0\n",
            "RestingECG        0\n",
            "MaxHR             0\n",
            "ExerciseAngina    0\n",
            "Oldpeak           0\n",
            "ST_Slope          0\n",
            "HeartDisease      0\n",
            "dtype: int64\n",
            "<class 'pandas.core.frame.DataFrame'>\n",
            "RangeIndex: 918 entries, 0 to 917\n",
            "Data columns (total 12 columns):\n",
            " #   Column          Non-Null Count  Dtype  \n",
            "---  ------          --------------  -----  \n",
            " 0   Age             918 non-null    int64  \n",
            " 1   Sex             918 non-null    int64  \n",
            " 2   ChestPainType   918 non-null    int64  \n",
            " 3   RestingBP       918 non-null    int64  \n",
            " 4   Cholesterol     918 non-null    int64  \n",
            " 5   FastingBS       918 non-null    int64  \n",
            " 6   RestingECG      918 non-null    int64  \n",
            " 7   MaxHR           918 non-null    int64  \n",
            " 8   ExerciseAngina  918 non-null    int64  \n",
            " 9   Oldpeak         918 non-null    float64\n",
            " 10  ST_Slope        918 non-null    int64  \n",
            " 11  target          918 non-null    int64  \n",
            "dtypes: float64(1), int64(11)\n",
            "memory usage: 86.2 KB\n"
          ]
        },
        {
          "data": {
            "text/html": [
              "<div>\n",
              "<style scoped>\n",
              "    .dataframe tbody tr th:only-of-type {\n",
              "        vertical-align: middle;\n",
              "    }\n",
              "\n",
              "    .dataframe tbody tr th {\n",
              "        vertical-align: top;\n",
              "    }\n",
              "\n",
              "    .dataframe thead th {\n",
              "        text-align: right;\n",
              "    }\n",
              "</style>\n",
              "<table border=\"1\" class=\"dataframe\">\n",
              "  <thead>\n",
              "    <tr style=\"text-align: right;\">\n",
              "      <th></th>\n",
              "      <th>Age</th>\n",
              "      <th>Sex</th>\n",
              "      <th>ChestPainType</th>\n",
              "      <th>RestingBP</th>\n",
              "      <th>Cholesterol</th>\n",
              "      <th>FastingBS</th>\n",
              "      <th>RestingECG</th>\n",
              "      <th>MaxHR</th>\n",
              "      <th>ExerciseAngina</th>\n",
              "      <th>Oldpeak</th>\n",
              "      <th>ST_Slope</th>\n",
              "      <th>target</th>\n",
              "    </tr>\n",
              "  </thead>\n",
              "  <tbody>\n",
              "    <tr>\n",
              "      <th>0</th>\n",
              "      <td>40</td>\n",
              "      <td>0</td>\n",
              "      <td>0</td>\n",
              "      <td>140</td>\n",
              "      <td>289</td>\n",
              "      <td>0</td>\n",
              "      <td>0</td>\n",
              "      <td>172</td>\n",
              "      <td>0</td>\n",
              "      <td>0.0</td>\n",
              "      <td>0</td>\n",
              "      <td>0</td>\n",
              "    </tr>\n",
              "    <tr>\n",
              "      <th>1</th>\n",
              "      <td>49</td>\n",
              "      <td>1</td>\n",
              "      <td>1</td>\n",
              "      <td>160</td>\n",
              "      <td>180</td>\n",
              "      <td>0</td>\n",
              "      <td>0</td>\n",
              "      <td>156</td>\n",
              "      <td>0</td>\n",
              "      <td>1.0</td>\n",
              "      <td>1</td>\n",
              "      <td>1</td>\n",
              "    </tr>\n",
              "    <tr>\n",
              "      <th>2</th>\n",
              "      <td>37</td>\n",
              "      <td>0</td>\n",
              "      <td>0</td>\n",
              "      <td>130</td>\n",
              "      <td>283</td>\n",
              "      <td>0</td>\n",
              "      <td>1</td>\n",
              "      <td>98</td>\n",
              "      <td>0</td>\n",
              "      <td>0.0</td>\n",
              "      <td>0</td>\n",
              "      <td>0</td>\n",
              "    </tr>\n",
              "    <tr>\n",
              "      <th>3</th>\n",
              "      <td>48</td>\n",
              "      <td>1</td>\n",
              "      <td>2</td>\n",
              "      <td>138</td>\n",
              "      <td>214</td>\n",
              "      <td>0</td>\n",
              "      <td>0</td>\n",
              "      <td>108</td>\n",
              "      <td>1</td>\n",
              "      <td>1.5</td>\n",
              "      <td>1</td>\n",
              "      <td>1</td>\n",
              "    </tr>\n",
              "    <tr>\n",
              "      <th>4</th>\n",
              "      <td>54</td>\n",
              "      <td>0</td>\n",
              "      <td>1</td>\n",
              "      <td>150</td>\n",
              "      <td>195</td>\n",
              "      <td>0</td>\n",
              "      <td>0</td>\n",
              "      <td>122</td>\n",
              "      <td>0</td>\n",
              "      <td>0.0</td>\n",
              "      <td>0</td>\n",
              "      <td>0</td>\n",
              "    </tr>\n",
              "  </tbody>\n",
              "</table>\n",
              "</div>"
            ],
            "text/plain": [
              "   Age  Sex  ChestPainType  RestingBP  Cholesterol  FastingBS  RestingECG  \\\n",
              "0   40    0              0        140          289          0           0   \n",
              "1   49    1              1        160          180          0           0   \n",
              "2   37    0              0        130          283          0           1   \n",
              "3   48    1              2        138          214          0           0   \n",
              "4   54    0              1        150          195          0           0   \n",
              "\n",
              "   MaxHR  ExerciseAngina  Oldpeak  ST_Slope  target  \n",
              "0    172               0      0.0         0       0  \n",
              "1    156               0      1.0         1       1  \n",
              "2     98               0      0.0         0       0  \n",
              "3    108               1      1.5         1       1  \n",
              "4    122               0      0.0         0       0  "
            ]
          },
          "execution_count": 3,
          "metadata": {},
          "output_type": "execute_result"
        }
      ],
      "source": [
        "\n",
        "# Verificando valores nulos\n",
        "print(df.isnull().sum())\n",
        "\n",
        "# Criando coluna target para estudo\n",
        "df['target'] = df['HeartDisease']\n",
        "df.drop(columns=['HeartDisease'], inplace=True)\n",
        "\n",
        "# Tratar colunas categóricas\n",
        "cat_cols = ['Sex', 'ChestPainType', 'RestingECG', 'ExerciseAngina', 'ST_Slope']\n",
        "num_cols = [col for col in df.columns if col not in cat_cols + ['target']]\n",
        "\n",
        "df['ExerciseAngina'] = df['ExerciseAngina'].map({'N': 0, 'Y': 1})\n",
        "df['Sex'] = df['Sex'].map({'M': 0, 'F': 1})\n",
        "df['ST_Slope'] = df['ST_Slope'].map({'Up': 0, 'Flat': 1, 'Down': 2})\n",
        "df['RestingECG'] = df['RestingECG'].map({'Normal': 0, 'ST': 1, 'LVH': 2})\n",
        "df['ChestPainType'] = df['ChestPainType'].map({'ATA': 0, 'NAP': 1, 'ASY': 2, 'TA': 3})\n",
        "\n",
        "# Verificando os tipos de dados e estatísticas básicas\n",
        "df.info()\n",
        "df.head()\n"
      ]
    },
    {
      "cell_type": "markdown",
      "id": "4ec090dc",
      "metadata": {
        "id": "4ec090dc"
      },
      "source": [
        "## 4. Separação dos Conjuntos de Treino e Teste (Validação Cruzada Estratificada)"
      ]
    },
    {
      "cell_type": "code",
      "execution_count": 4,
      "id": "b0722ca1",
      "metadata": {
        "id": "b0722ca1"
      },
      "outputs": [],
      "source": [
        "\n",
        "X = df.drop('target', axis=1)\n",
        "y = df['target']\n",
        "\n",
        "X_train, X_test, y_train, y_test = train_test_split(X, y, test_size=0.2, random_state=42, shuffle=True, stratify=y)\n",
        "\n",
        "skf = StratifiedKFold(n_splits=5, shuffle=True, random_state=42)\n"
      ]
    },
    {
      "cell_type": "markdown",
      "id": "60e18713",
      "metadata": {
        "id": "60e18713"
      },
      "source": [
        "## 5. Avaliação de Modelos com Dados Brutos"
      ]
    },
    {
      "cell_type": "code",
      "execution_count": 5,
      "id": "72d27003",
      "metadata": {
        "colab": {
          "base_uri": "https://localhost:8080/"
        },
        "id": "72d27003",
        "outputId": "d4e3c039-24d7-48a1-a1e9-17d6332c714e"
      },
      "outputs": [
        {
          "name": "stdout",
          "output_type": "stream",
          "text": [
            "Logistic Regression: 0.8515 ± 0.0376\n",
            "Decision Tree: 0.7929 ± 0.0315\n",
            "CART: 0.7929 ± 0.0307\n",
            "Naive Bayes: 0.8406 ± 0.0411\n",
            "Random Forest: 0.8515 ± 0.0286\n",
            "SVM: 0.7166 ± 0.0324\n",
            "KNN: 0.6894 ± 0.0346\n",
            "AdaBoost: 0.8624 ± 0.0313\n",
            "Voting: 0.8556 ± 0.0336\n"
          ]
        }
      ],
      "source": [
        "\n",
        "models = {\n",
        "    \"Logistic Regression\": LogisticRegression(max_iter=1000),\n",
        "    \"Decision Tree\": DecisionTreeClassifier(),\n",
        "    \"CART\": DecisionTreeClassifier(),\n",
        "    \"Naive Bayes\": GaussianNB(),\n",
        "    \"Random Forest\": RandomForestClassifier(),\n",
        "    \"SVM\": SVC(),\n",
        "    \"KNN\": KNeighborsClassifier(),\n",
        "    \"AdaBoost\": AdaBoostClassifier(),\n",
        "    \"Voting\": VotingClassifier(\n",
        "        estimators=[\n",
        "          ('svm', SVC(probability=True)),\n",
        "          ('lr', LogisticRegression(max_iter=1000)),\n",
        "          ('rf', RandomForestClassifier())\n",
        "        ],\n",
        "        voting='soft'\n",
        "    )\n",
        "}\n",
        "\n",
        "for name, model in models.items():\n",
        "    scores = cross_val_score(model, X_train, y_train, cv=skf, scoring='accuracy')\n",
        "    print(f\"{name}: {np.mean(scores):.4f} ± {np.std(scores):.4f}\")\n"
      ]
    },
    {
      "cell_type": "markdown",
      "id": "cf7c488b",
      "metadata": {
        "id": "cf7c488b"
      },
      "source": [
        "## 6. Comparação com Dados Normalizados e Padronizados"
      ]
    },
    {
      "cell_type": "code",
      "execution_count": 6,
      "id": "b804dfb1",
      "metadata": {
        "colab": {
          "base_uri": "https://localhost:8080/"
        },
        "id": "b804dfb1",
        "outputId": "20baedfb-9d7a-4f58-8d48-605336b8b846"
      },
      "outputs": [
        {
          "name": "stdout",
          "output_type": "stream",
          "text": [
            "### Dados Padronizados\n",
            "Logistic Regression: 0.8488 ± 0.0409\n",
            "Decision Tree: 0.7765 ± 0.0306\n",
            "CART: 0.7806 ± 0.0192\n",
            "Naive Bayes: 0.8406 ± 0.0411\n",
            "Random Forest: 0.8379 ± 0.0367\n",
            "SVM: 0.8570 ± 0.0441\n",
            "KNN: 0.8542 ± 0.0373\n",
            "AdaBoost: 0.8624 ± 0.0313\n",
            "Voting: 0.8638 ± 0.0313\n",
            "\n",
            "### Dados Normalizados\n",
            "Logistic Regression: 0.8556 ± 0.0398\n",
            "Decision Tree: 0.7929 ± 0.0255\n",
            "CART: 0.7861 ± 0.0273\n",
            "Naive Bayes: 0.8406 ± 0.0411\n",
            "Random Forest: 0.8434 ± 0.0257\n",
            "SVM: 0.8638 ± 0.0330\n",
            "KNN: 0.8502 ± 0.0288\n",
            "AdaBoost: 0.8624 ± 0.0313\n",
            "Voting: 0.8638 ± 0.0333\n"
          ]
        }
      ],
      "source": [
        "\n",
        "# Padronização\n",
        "scaler_std = StandardScaler()\n",
        "X_std = scaler_std.fit_transform(X_train)\n",
        "\n",
        "# Normalização\n",
        "scaler_minmax = MinMaxScaler()\n",
        "X_norm = scaler_minmax.fit_transform(X_train)\n",
        "\n",
        "# Testando com dados padronizados\n",
        "print(\"### Dados Padronizados\")\n",
        "for name, model in models.items():\n",
        "    scores = cross_val_score(model, X_std, y_train, cv=skf, scoring='accuracy')\n",
        "    print(f\"{name}: {np.mean(scores):.4f} ± {np.std(scores):.4f}\")\n",
        "\n",
        "# Testando com dados normalizados\n",
        "print(\"\\n### Dados Normalizados\")\n",
        "for name, model in models.items():\n",
        "    scores = cross_val_score(model, X_norm, y_train, cv=skf, scoring='accuracy')\n",
        "    print(f\"{name}: {np.mean(scores):.4f} ± {np.std(scores):.4f}\")\n"
      ]
    },
    {
      "cell_type": "markdown",
      "id": "e28ad5b8",
      "metadata": {
        "id": "e28ad5b8"
      },
      "source": [
        "## 7. Comparação Gráfica dos Modelos"
      ]
    },
    {
      "cell_type": "code",
      "execution_count": 7,
      "id": "c5ebff1f",
      "metadata": {
        "colab": {
          "base_uri": "https://localhost:8080/",
          "height": 1000
        },
        "id": "c5ebff1f",
        "outputId": "b7871368-1df9-49ca-a481-70d5b534184d"
      },
      "outputs": [
        {
          "name": "stdout",
          "output_type": "stream",
          "text": [
            "[Bruto]Logistic Regression: 0.8515 ± 0.0376\n",
            "[Bruto]Decision Tree: 0.7847 ± 0.0263\n",
            "[Bruto]CART: 0.7875 ± 0.0258\n",
            "[Bruto]Naive Bayes: 0.8406 ± 0.0411\n",
            "[Bruto]Random Forest: 0.8420 ± 0.0415\n",
            "[Bruto]SVM: 0.7166 ± 0.0324\n",
            "[Bruto]KNN: 0.6894 ± 0.0346\n",
            "[Bruto]AdaBoost: 0.8624 ± 0.0313\n",
            "[Bruto]Voting: 0.8501 ± 0.0295\n",
            "[Padronizado]Logistic Regression: 0.8488 ± 0.0409\n",
            "[Padronizado]Decision Tree: 0.7902 ± 0.0278\n",
            "[Padronizado]CART: 0.7847 ± 0.0251\n",
            "[Padronizado]Naive Bayes: 0.8406 ± 0.0411\n",
            "[Padronizado]Random Forest: 0.8556 ± 0.0286\n",
            "[Padronizado]SVM: 0.8570 ± 0.0441\n",
            "[Padronizado]KNN: 0.8542 ± 0.0373\n",
            "[Padronizado]AdaBoost: 0.8624 ± 0.0313\n",
            "[Padronizado]Voting: 0.8638 ± 0.0281\n",
            "[Normalizado]Logistic Regression: 0.8556 ± 0.0398\n",
            "[Normalizado]Decision Tree: 0.7915 ± 0.0250\n",
            "[Normalizado]CART: 0.7861 ± 0.0265\n",
            "[Normalizado]Naive Bayes: 0.8406 ± 0.0411\n",
            "[Normalizado]Random Forest: 0.8488 ± 0.0408\n",
            "[Normalizado]SVM: 0.8638 ± 0.0330\n",
            "[Normalizado]KNN: 0.8502 ± 0.0288\n",
            "[Normalizado]AdaBoost: 0.8624 ± 0.0313\n",
            "[Normalizado]Voting: 0.8597 ± 0.0318\n"
          ]
        },
        {
          "data": {
            "image/png": "[encoded data removed]",
            "text/plain": [
              "<Figure size 1200x600 with 1 Axes>"
            ]
          },
          "metadata": {},
          "output_type": "display_data"
        }
      ],
      "source": [
        "\n",
        "import matplotlib.pyplot as plt\n",
        "\n",
        "# Avaliação e comparação dos modelos\n",
        "def evaluate_models(X_versions, version_names):\n",
        "    results = {}\n",
        "\n",
        "    for Xv, name in zip(X_versions, version_names):\n",
        "        for model_name, model in models.items():\n",
        "            scores = cross_val_score(model, Xv, y_train, cv=skf, scoring='accuracy')\n",
        "            results[(model_name, name)] = np.mean(scores)\n",
        "            print(f\"[{name}]{model_name}: {np.mean(scores):.4f} ± {np.std(scores):.4f}\")\n",
        "\n",
        "    return results\n",
        "\n",
        "# Avaliando modelos com as três versões de dados\n",
        "X_versions = [X_train, X_std, X_norm]\n",
        "version_names = ['Bruto', 'Padronizado', 'Normalizado']\n",
        "\n",
        "results = evaluate_models(X_versions, version_names)\n",
        "\n",
        "# Preparando dados para gráfico\n",
        "import pandas as pd\n",
        "\n",
        "df_results = pd.DataFrame([\n",
        "    {'Modelo': model, 'Versão': version, 'Acurácia': acc}\n",
        "    for (model, version), acc in results.items()\n",
        "])\n",
        "\n",
        "plt.figure(figsize=(12, 6))\n",
        "sns.barplot(data=df_results, x='Modelo', y='Acurácia', hue='Versão')\n",
        "plt.title('Comparação de Modelos com Diferentes Pré-processamentos em Relação a Acurácia')\n",
        "plt.ylim(0.7, 1.0)\n",
        "plt.legend(title='Tipo de dado')\n",
        "plt.xticks(rotation=45)\n",
        "plt.tight_layout()\n",
        "plt.show()\n"
      ]
    },
    {
      "cell_type": "markdown",
      "id": "jJ72VKN6u13t",
      "metadata": {
        "id": "jJ72VKN6u13t"
      },
      "source": [
        "## 8. Otimização de Hiperparâmetros para os Melhores Modelos\n",
        "\n",
        "Nesta etapa, utilizaremos o GridSearchCV para otimizar os hiperparâmetros dos modelos que tiveram melhor desempenho anteriormente: **Random Forest**, **SVM** e **Voting Classifier**. O objetivo é maximizar a acurácia mantendo a estabilidade."
      ]
    },
    {
      "cell_type": "code",
      "execution_count": 8,
      "id": "6Q60RxAzvV6V",
      "metadata": {
        "colab": {
          "base_uri": "https://localhost:8080/"
        },
        "id": "6Q60RxAzvV6V",
        "outputId": "27c47c3c-bc82-4f74-9ab4-a8de7f82073c"
      },
      "outputs": [
        {
          "name": "stdout",
          "output_type": "stream",
          "text": [
            "Melhor SVM: {'svm__C': 1, 'svm__kernel': 'rbf'} Acurácia: 0.8638\n",
            "Melhor AdaBoost: {'learning_rate': 1.0, 'n_estimators': 50} Acurácia: 0.8624\n",
            "Melhor Random Forest: {'max_depth': 5, 'n_estimators': 100} Acurácia: 0.8610\n",
            "Voting (RF + ADA) Acurácia média: 0.8651477029167831 ± 0.04106035796975315\n"
          ]
        }
      ],
      "source": [
        "from sklearn.model_selection import GridSearchCV\n",
        "\n",
        "# Pipeline para SVM com normalização\n",
        "pipe_svm = Pipeline([\n",
        "    ('scaler', MinMaxScaler()),\n",
        "    ('svm', SVC(probability=True))\n",
        "])\n",
        "param_svm = {\n",
        "    'svm__C': [0.1, 1, 10],\n",
        "    'svm__kernel': ['rbf', 'linear']\n",
        "}\n",
        "grid_svm = GridSearchCV(pipe_svm, param_svm, cv=skf, scoring='accuracy', n_jobs=-1)\n",
        "grid_svm.fit(X_norm, y_train)\n",
        "\n",
        "# AdaBoost (com dados brutos)\n",
        "param_ada = {\n",
        "    'n_estimators': [50, 100, 150],\n",
        "    'learning_rate': [0.5, 1.0, 1.5]\n",
        "}\n",
        "grid_ada = GridSearchCV(AdaBoostClassifier(random_state=42), param_ada, cv=skf, scoring='accuracy', n_jobs=-1)\n",
        "grid_ada.fit(X_train, y_train)\n",
        "\n",
        "# Random Forest para VotingClassifier\n",
        "param_rf = {\n",
        "    'n_estimators': [100],\n",
        "    'max_depth': [None, 5],\n",
        "}\n",
        "grid_rf = GridSearchCV(RandomForestClassifier(random_state=42), param_rf, cv=skf, scoring='accuracy', n_jobs=-1)\n",
        "grid_rf.fit(X_std, y_train)\n",
        "\n",
        "# Voting com os melhores estimadores (com padronização)\n",
        "best_ada = grid_ada.best_estimator_\n",
        "best_rf = grid_rf.best_estimator_\n",
        "\n",
        "voting = VotingClassifier(estimators=[\n",
        "    ('rf', best_rf),\n",
        "    ('ada', best_ada)\n",
        "], voting='soft')\n",
        "\n",
        "scores_voting = cross_val_score(voting, X_std, y_train, cv=skf, scoring='accuracy')\n",
        "\n",
        "# Resultados\n",
        "print(\"Melhor SVM:\", grid_svm.best_params_, f\"Acurácia: {grid_svm.best_score_:.4f}\")\n",
        "print(\"Melhor AdaBoost:\", grid_ada.best_params_, f\"Acurácia: {grid_ada.best_score_:.4f}\")\n",
        "print(\"Melhor Random Forest:\", grid_rf.best_params_, f\"Acurácia: {grid_rf.best_score_:.4f}\")\n",
        "print(\"Voting (RF + ADA) Acurácia média:\", scores_voting.mean(), \"±\", scores_voting.std())"
      ]
    },
    {
      "cell_type": "markdown",
      "id": "36640c1f",
      "metadata": {
        "id": "36640c1f"
      },
      "source": [
        "## 9. Exportação do Modelo Final"
      ]
    },
    {
      "cell_type": "code",
      "execution_count": null,
      "id": "a0fb488c",
      "metadata": {
        "colab": {
          "base_uri": "https://localhost:8080/"
        },
        "id": "a0fb488c",
        "outputId": "409bb9a6-022c-407b-ce3e-e93edf6bf9ab"
      },
      "outputs": [
        {
          "name": "stdout",
          "output_type": "stream",
          "text": [
            "Acurácia do modelo final: 0.8967391304347826\n"
          ]
        },
        {
          "data": {
            "text/plain": [
              "['model.pkl']"
            ]
          },
          "execution_count": 9,
          "metadata": {},
          "output_type": "execute_result"
        }
      ],
      "source": [
        "\n",
        "# Criação do modelo final com VotingClassifier\n",
        "voting.fit(X_train, y_train)\n",
        "predictions = voting.predict(X_test)\n",
        "\n",
        "# Avaliação do modelo final\n",
        "print(\"Acurácia do modelo final:\", accuracy_score(y_test, predictions))\n",
        "\n",
        "# Salvando modelo e scaler\n",
        "joblib.dump(voting, 'model.pkl')"
      ]
    }
  ],
  "metadata": {
    "colab": {
      "provenance": []
    },
    "kernelspec": {
      "display_name": "Python 3",
      "name": "python3"
    },
    "language_info": {
      "codemirror_mode": {
        "name": "ipython",
        "version": 3
      },
      "file_extension": ".py",
      "mimetype": "text/x-python",
      "name": "python",
      "nbconvert_exporter": "python",
      "pygments_lexer": "ipython3",
      "version": "3.13.5"
    }
  },
  "nbformat": 4,
  "nbformat_minor": 5
}
